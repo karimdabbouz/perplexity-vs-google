{
 "cells": [
  {
   "cell_type": "code",
   "execution_count": 1,
   "id": "b28a8a5d-dc75-418e-95fb-4d597fdff0e9",
   "metadata": {},
   "outputs": [],
   "source": [
    "import json, datetime, time, random, re, collections, logging, tldextract, os, chardet, ast\n",
    "import pandas as pd\n",
    "from seleniumwire import webdriver\n",
    "from seleniumwire.utils import decode as decodesw\n",
    "from selenium.webdriver.common.keys import Keys\n",
    "from selenium.webdriver.common.by import By\n",
    "from selenium.webdriver.chrome.options import Options\n",
    "from selenium.webdriver.support.ui import WebDriverWait\n",
    "from selenium.webdriver.support import expected_conditions as EC\n",
    "from seleniumbase import Driver, SB\n",
    "\n",
    "from sqlalchemy import create_engine, inspect, Table, MetaData, select, Column, String, ARRAY, func, Integer\n",
    "from sqlalchemy.orm import declarative_base, scoped_session, sessionmaker, Session"
   ]
  },
  {
   "cell_type": "markdown",
   "id": "0e07c2bd-814d-4132-9cde-8f2020ccf0de",
   "metadata": {},
   "source": [
    "# 0) Outline\n",
    "To compare sources used by Google vs. Perplexity, I first source 1800 search queries by starting with a list of base queries divided into 18 different categories. These base queries are passed to Google Keyword Planner and Answerthepublic to collect similar queries. The result is then consolidated into a file suggestions.csv from which a random choice of ten queries per base query is taken. This final list of 1800 queries is then used by script in ./perplexity-google-script to scrape the sources from Google search and Perplexity. The sources are stored in a Postgres database."
   ]
  },
  {
   "cell_type": "markdown",
   "id": "7feaf4fe-5edf-4be8-a9f1-f715fc0298fc",
   "metadata": {},
   "source": [
    "## I) Setting up Selenium and DB Connection"
   ]
  },
  {
   "cell_type": "code",
   "execution_count": 2,
   "id": "d01ab7ab-536a-4af6-b4e9-0a1dfb914985",
   "metadata": {},
   "outputs": [],
   "source": [
    "def create_selenium_driver(mode, proxy=None):\n",
    "    '''\n",
    "    Starts SeleniumBase and returns the driver.\n",
    "    You can choose between wire mode to capture requests or uc mode for anti-bot-detection.\n",
    "    :param str mode: either wire or uc\n",
    "    '''\n",
    "    if mode == 'wire':\n",
    "        driver = Driver(wire=True, headed=True, proxy=proxy)\n",
    "        driver.maximize_window()\n",
    "        return driver\n",
    "    elif mode == 'uc':\n",
    "        driver = Driver(uc=True, headed=True, proxy=proxy)\n",
    "        driver.maximize_window()\n",
    "        return driver"
   ]
  },
  {
   "cell_type": "code",
   "execution_count": 2,
   "id": "d09c8ddf-fb4d-46de-aff0-f5cf75dbb08f",
   "metadata": {},
   "outputs": [],
   "source": [
    "class DBConnection():\n",
    "    '''\n",
    "    Connection to a table in my Postgres database for news articles.\n",
    "    '''\n",
    "    def __init__(self, host, port, db_name, username, password, table_name):\n",
    "        self.host = host\n",
    "        self.port = port\n",
    "        self.db_name = db_name\n",
    "        self.username = username\n",
    "        self.password = password\n",
    "        self.engine = create_engine(f'postgresql://{self.username}:{self.password}@{self.host}:{self.port}/{self.db_name}?sslmode=require')\n",
    "        self.metadata = MetaData()\n",
    "        self.table_name = table_name\n",
    "        self.Base = declarative_base()\n",
    "        self.TableClass = self.create_table_class()        \n",
    "        self.Session = scoped_session(sessionmaker(bind=self.engine))\n",
    "\n",
    "    def get_engine(self):\n",
    "        '''\n",
    "        Returns the engine\n",
    "        '''\n",
    "        return self.engine\n",
    "\n",
    "    \n",
    "    def create_table_class(self):\n",
    "        '''\n",
    "        Creates an SQLAlchemy table using the Base class.\n",
    "        Uses the specified schema if tables does not yet exist.\n",
    "        If it exists, it reads the table schema from the db.\n",
    "        '''\n",
    "        if not self.engine.dialect.has_table(self.engine.connect(), self.table_name):\n",
    "            class TableClass(self.Base):\n",
    "                __tablename__ = self.table_name\n",
    "                id = Column(Integer, primary_key=True)\n",
    "                category = Column(String)\n",
    "                subcategory0 = Column(String)\n",
    "                subcategory1 = Column(String)\n",
    "                query = Column(String)\n",
    "                google = Column(ARRAY(String))\n",
    "                perplexity = Column(ARRAY(String))\n",
    "            return TableClass\n",
    "        else:\n",
    "            class TableClass(self.Base):\n",
    "                __table__ = Table(self.table_name, self.metadata, autoload_with=self.engine)\n",
    "            return TableClass\n",
    "\n",
    "\n",
    "    def create_table(self):\n",
    "        '''\n",
    "        Creates a new table if it does not yet exist.\n",
    "        '''\n",
    "        if not self.engine.dialect.has_table(self.engine.connect(), self.table_name):\n",
    "            self.Base.metadata.create_all(self.engine)\n",
    "            print(f'The following table has been created: {self.table_name}')\n",
    "\n",
    "\n",
    "    def write_to_db(self, results):\n",
    "        '''\n",
    "        Takes a list of entries (dict) and writes it to the db.\n",
    "        '''\n",
    "        with self.Session() as session:\n",
    "            objects = [self.TableClass(**entry) for entry in results]\n",
    "            session.bulk_save_objects(objects)\n",
    "            session.commit()\n",
    "\n",
    "\n",
    "    def read_from_db(self, entry_id=None):\n",
    "        '''\n",
    "        Reads from the database.\n",
    "        If entry_id is specified, it returns a single entry.\n",
    "        Otherwise it returns all entries as a DataFrame.\n",
    "        :param int entry_id: The id to retrieve\n",
    "        '''\n",
    "        with self.Session() as session:\n",
    "            if entry_id:\n",
    "                result = session.query(self.TableClass).filter_by(id=entry_id).first()\n",
    "                return result\n",
    "            else: \n",
    "                result = [x for x in session.query(self.TableClass).all()]\n",
    "                df = pd.DataFrame([x.__dict__ for x in result])\n",
    "                df.drop('_sa_instance_state', axis=1, inplace=True)\n",
    "                return df\n",
    "\n",
    "\n",
    "    def update_entry(self, entry_id, column, new_value):\n",
    "        '''\n",
    "        Updates a column for a given id.\n",
    "        :param int entry_id: The id of the row to update\n",
    "        :param str column: The name of the column to update\n",
    "        :param new_value: The new value\n",
    "        '''\n",
    "        with self.Session() as session:\n",
    "            try:\n",
    "                entry = self.read_from_db(entry_id)\n",
    "                if not entry:\n",
    "                    print('No entry found with this ID.')\n",
    "                    return False\n",
    "                elif not hasattr(self.TableClass, column):\n",
    "                    print('Column does not exist in this table.')\n",
    "                    return False\n",
    "                else:\n",
    "                    session.query(self.TableClass).filter_by(id=entry_id).update({column: new_value})\n",
    "                    session.commit()\n",
    "            except Exception as e:\n",
    "                print(e)"
   ]
  },
  {
   "cell_type": "markdown",
   "id": "da3d7b06-5fcc-4869-bde8-ec3505e83945",
   "metadata": {},
   "source": [
    "## II) Sourcing Search Queries"
   ]
  },
  {
   "cell_type": "markdown",
   "id": "42a28666-9c16-45fc-9b59-7d713349c47f",
   "metadata": {},
   "source": [
    "### Google Keyword Planner"
   ]
  },
  {
   "cell_type": "code",
   "execution_count": 7,
   "id": "0f41dbce-db22-440d-b0d1-32a38d296c51",
   "metadata": {},
   "outputs": [],
   "source": [
    "driver = create_selenium_driver('uc')"
   ]
  },
  {
   "cell_type": "code",
   "execution_count": 253,
   "id": "cdb8166b-91fc-47ee-979f-ec79409e7248",
   "metadata": {},
   "outputs": [],
   "source": [
    "# Open keyword planner, then login manually...\n",
    "driver.get('https://ads.google.com/aw/keywordplanner/')"
   ]
  },
  {
   "cell_type": "code",
   "execution_count": 254,
   "id": "01c7756b-c26e-4935-94d4-63be70dc4e36",
   "metadata": {},
   "outputs": [],
   "source": [
    "driver.get('https://ads.google.com/aw/keywordplanner/home?ocid=96840841&euid=99592441&uscid=96840841&__c=7316379009&authuser=0&sf=kp&subid=de-de-awhp-g-aw-c-t-kwp-hero%21o2')"
   ]
  },
  {
   "cell_type": "code",
   "execution_count": 251,
   "id": "8adfe569-ea30-4186-9639-69e1949c96ea",
   "metadata": {},
   "outputs": [],
   "source": [
    "def get_queries_keyword_planner(driver, query):\n",
    "    '''\n",
    "    Uses Google Keyword Planner to get keywords for a given query.\n",
    "    Important: Manual login required before passing the driver to this function.\n",
    "    Returns a list of keywords.\n",
    "    '''\n",
    "    result = []\n",
    "    directory = './downloaded_files'\n",
    "    pattern = re.compile(r'.*\\.csv$')\n",
    "    download_ready = False\n",
    "    driver.get('https://ads.google.com/aw/keywordplanner/home?ocid=96840841&euid=99592441&uscid=96840841&__c=7316379009&authuser=0&sf=kp&subid=de-de-awhp-g-aw-c-t-kwp-hero%21o2')\n",
    "    time.sleep(random.randint(0, 10))\n",
    "    try:\n",
    "        WebDriverWait(driver, 60).until(EC.element_to_be_clickable((By.XPATH, '//div[contains(@class, \"card-frame\")]'))).click()\n",
    "        time.sleep(random.randint(0, 5))\n",
    "    except Exception as e:\n",
    "        print(e)\n",
    "        return result\n",
    "    try:\n",
    "        WebDriverWait(driver, 60).until(EC.visibility_of_element_located((By.XPATH, '//input[contains(@class, \"search-input\")]'))).send_keys(query)\n",
    "    except Exception as e:\n",
    "        print(e)\n",
    "        return result\n",
    "    driver.find_element(By.XPATH, '//material-button[contains(@class, \"submit-button\")]').click()\n",
    "    try:\n",
    "        WebDriverWait(driver, 60).until(EC.visibility_of_element_located((By.XPATH, '//div[@aria-label=\"Keyword ideas Table\"]')))\n",
    "    except Exception as e:\n",
    "        print(e)\n",
    "        return result\n",
    "    time.sleep(random.randint(2, 10))\n",
    "    try:\n",
    "        WebDriverWait(driver, 60).until(EC.element_to_be_clickable((By.XPATH, '//material-menu[contains(@class, \"download-menu\")]'))).click()\n",
    "    except Exception as e:\n",
    "        print(e)\n",
    "        return result\n",
    "    try:\n",
    "        WebDriverWait(driver, 60).until(EC.element_to_be_clickable((By.XPATH, '//span[text()=\".csv\"]'))).click()\n",
    "    except Exception as e:\n",
    "        print(e)\n",
    "        return result\n",
    "    time.sleep(20)\n",
    "    while not download_ready:\n",
    "        with os.scandir(directory) as entries:\n",
    "            for entry in entries:\n",
    "                if pattern.match(entry.name):\n",
    "                    current_csv = entry.name\n",
    "                    download_ready = True\n",
    "    with open(f'./downloaded_files/{current_csv}', 'r', encoding='utf-16') as file:\n",
    "        lines = file.readlines()\n",
    "        for line in lines[3:]:\n",
    "            result.append(re.split(r'\\t', line)[0])\n",
    "    os.remove(f'./downloaded_files/{current_csv}')\n",
    "    driver.get('https://ads.google.com/aw/keywordplanner/home?ocid=96840841&euid=99592441&uscid=96840841&__c=7316379009&authuser=0&sf=kp&subid=de-de-awhp-g-aw-c-t-kwp-hero%21o2')\n",
    "    return result"
   ]
  },
  {
   "cell_type": "code",
   "execution_count": 256,
   "id": "62db37ad-b041-4f2f-8624-907d722e0806",
   "metadata": {},
   "outputs": [],
   "source": [
    "# Run\n",
    "final = []\n",
    "base_queries = pd.read_csv('initial_queries.csv')\n",
    "for index, row in base_queries.iterrows():\n",
    "    similar_queries = get_queries_keyword_planner(driver, row['query'])\n",
    "    final.append(\n",
    "        {\n",
    "            'category': row['category'],\n",
    "            'subcategory0': row['subcategory0'],\n",
    "            'subcategory1': row['subcategory1'],\n",
    "            'base_query': row['query'],\n",
    "            'similar_queries': similar_queries\n",
    "        }\n",
    "    )"
   ]
  },
  {
   "cell_type": "code",
   "execution_count": 257,
   "id": "96c5ddcf-923b-4ab7-8c2b-bb57c17def75",
   "metadata": {},
   "outputs": [],
   "source": [
    "# df = pd.DataFrame(final)\n",
    "# df.to_csv('keyword_planner_suggestions.csv')"
   ]
  },
  {
   "cell_type": "markdown",
   "id": "d83a11a2-4571-4f22-ad54-4f4f2910d2ef",
   "metadata": {},
   "source": [
    "### answerthepublic.com"
   ]
  },
  {
   "cell_type": "code",
   "execution_count": 1,
   "id": "d0100d4c-589d-4b6c-b7ae-6806bc0f110d",
   "metadata": {},
   "outputs": [],
   "source": [
    "def get_queries_answerthepublic(query):\n",
    "    '''\n",
    "    Uses answerthepublic.com to get long-tail queries for a given keyword.\n",
    "    Returns a list of queries.\n",
    "    :param string query: The keyword to get long-tail queries for\n",
    "    '''\n",
    "    result = []\n",
    "    new_keywords = True\n",
    "    length = 0\n",
    "    proxy_url = ''\n",
    "    driver = create_selenium_driver('uc', proxy_url)\n",
    "    driver.get('https://answerthepublic.com/de')\n",
    "    try:\n",
    "        WebDriverWait(driver, 60).until(EC.visibility_of_element_located((By.XPATH, '//input[@data-new-search-target=\"keyword\"]'))).send_keys(query)\n",
    "        driver.find_element(By.XPATH, '//input[@value=\"Search\"]').click()\n",
    "        time.sleep(20)\n",
    "    except Exception as e:\n",
    "        print(e)\n",
    "        return result\n",
    "    try:\n",
    "        modal = driver.find_elements(By.XPATH, '//img[@data-action=\"click->sign-in-modal#close\"]')\n",
    "        if modal:\n",
    "            modal[0].click()\n",
    "    except Exception as e:\n",
    "        print('no modal')\n",
    "    try:\n",
    "        WebDriverWait(driver, 60).until(EC.element_to_be_clickable((By.XPATH, '//a[@href=\"#tab-list\"]'))).click()\n",
    "        time.sleep(10)\n",
    "    except Exception as e:\n",
    "        print(e)\n",
    "        return result\n",
    "    while new_keywords:\n",
    "        driver.execute_script(\"window.scrollTo(0, document.body.scrollHeight);\")\n",
    "        time.sleep(10)\n",
    "        keywords = [x.text for x in driver.find_elements(By.XPATH, '//div[@class=\"lt__keyword\"]')[1:]]\n",
    "        if len(keywords) > length:\n",
    "            new_keywords = True\n",
    "            length = len(keywords)\n",
    "            time.sleep(10)\n",
    "        else:\n",
    "            new_keywords = False\n",
    "    driver.quit()    \n",
    "    return keywords"
   ]
  },
  {
   "cell_type": "code",
   "execution_count": 99,
   "id": "84a327a8-9aef-42bd-912a-682e1b7bc265",
   "metadata": {},
   "outputs": [],
   "source": [
    "# Run\n",
    "final = []\n",
    "base_queries = pd.read_csv('initial_queries.csv')\n",
    "for index, row in base_queries.iterrows():\n",
    "    similar_queries = get_queries_answerthepublic(row['base_query'])\n",
    "    final.append(\n",
    "        {\n",
    "            'category': row['category'],\n",
    "            'subcategory0': row['subcategory0'],\n",
    "            'subcategory1': row['subcategory1'],\n",
    "            'base_query': row['base_query'],\n",
    "            'similar_queries': similar_queries\n",
    "        }\n",
    "    )"
   ]
  },
  {
   "cell_type": "code",
   "execution_count": 9,
   "id": "5be14db8-e936-46c5-b874-6ed5844ee9a4",
   "metadata": {},
   "outputs": [],
   "source": [
    "# df = pd.DataFrame(final)\n",
    "# df.to_csv('answerthepublic_suggestions.csv')"
   ]
  },
  {
   "cell_type": "markdown",
   "id": "69982b24-8c2e-44a6-ad8e-754487248b6d",
   "metadata": {},
   "source": [
    "### Combine suggestions by kwp and answerthepublic into one file. Then take a random choice of ten queries per base query while avoiding duplicates"
   ]
  },
  {
   "cell_type": "code",
   "execution_count": 186,
   "id": "b70e8457-cb21-478c-9f72-283395b3ec70",
   "metadata": {},
   "outputs": [],
   "source": [
    "# Load files with suggestions\n",
    "kwp = pd.read_csv('keyword_planner_suggestions.csv', index_col=0).reset_index()\n",
    "atp = pd.read_csv('answerthepublic_suggestions.csv', index_col=0).reset_index()\n",
    "kwp.drop(['index'], inplace=True, axis=1)\n",
    "atp.drop(['index'], inplace=True, axis=1)"
   ]
  },
  {
   "cell_type": "code",
   "execution_count": 187,
   "id": "08b502fc-1fef-4ede-84a3-faa5813242f6",
   "metadata": {},
   "outputs": [],
   "source": [
    "# Consolidate\n",
    "suggestions = pd.merge(kwp, atp, on=['base_query', 'category', 'subcategory0', 'subcategory1'], how='right', suffixes=('_kwp', '_atp'))\n",
    "suggestions[['similar_queries_kwp', 'similar_queries_atp']] = suggestions[['similar_queries_kwp', 'similar_queries_atp']].apply(lambda x: x.apply(ast.literal_eval))"
   ]
  },
  {
   "cell_type": "code",
   "execution_count": 188,
   "id": "55faf1dd-ef66-4b4f-9eb5-bb073d4af109",
   "metadata": {},
   "outputs": [],
   "source": [
    "# Calculate number of suggestions for each query\n",
    "suggestions[['num_kwp', 'num_atp']] = suggestions[['similar_queries_kwp', 'similar_queries_atp']].apply(lambda x: x.apply(len))\n",
    "suggestions['num_total'] = suggestions['num_kwp'] + suggestions['num_atp']"
   ]
  },
  {
   "cell_type": "code",
   "execution_count": 189,
   "id": "764c10ba-9a14-40f9-bac5-bf4e5164201b",
   "metadata": {},
   "outputs": [],
   "source": [
    "# Select queries to use for analysis avoiding duplicates\n",
    "selection = []\n",
    "for i, row in suggestions.iterrows():\n",
    "    choice = []\n",
    "    choice.append(row['base_query'])\n",
    "    while len(choice) < 10:\n",
    "        kwp_or_atp = random.randint(0, 1)\n",
    "        try:\n",
    "            if kwp_or_atp == 0:\n",
    "                query = random.choice(row['similar_queries_kwp'])\n",
    "            else:\n",
    "                query = random.choice(row['similar_queries_atp'])\n",
    "        except Exception as e:\n",
    "            continue\n",
    "        if query not in choice:\n",
    "            choice.append(query)\n",
    "    selection.append(choice)\n",
    "suggestions['selection'] = selection"
   ]
  },
  {
   "cell_type": "code",
   "execution_count": 197,
   "id": "fd399c0f-5022-4080-a631-502f6e641555",
   "metadata": {},
   "outputs": [],
   "source": [
    "suggestions.to_csv('suggestions.csv')"
   ]
  },
  {
   "cell_type": "markdown",
   "id": "53fba1b3-65df-469b-b646-bdf7055f6ccf",
   "metadata": {},
   "source": [
    "### Prepare txt file to run by script"
   ]
  },
  {
   "cell_type": "code",
   "execution_count": 203,
   "id": "5d3d2d56-b914-4311-b83f-fb811ecdaace",
   "metadata": {},
   "outputs": [],
   "source": [
    "# Load keywords and write to txt file\n",
    "df = pd.read_csv('suggestions.csv', index_col=0)\n",
    "df['selection'] = df['selection'].apply(ast.literal_eval)\n",
    "with open('./queries.txt', 'w') as file:\n",
    "    for index, row in df.iterrows():\n",
    "        for query in row['selection']:\n",
    "            file.write(f'{row[\"category\"]},{row[\"subcategory0\"]},{row[\"subcategory1\"]},{query}\\n')"
   ]
  },
  {
   "cell_type": "markdown",
   "id": "b7fb0c90-8cf1-485a-82ee-56f4815482c8",
   "metadata": {},
   "source": [
    "## III) Collecting Sources\n",
    "The following code has been refactored into a script that can be run as a docker container. See: ./perplexity-google-script"
   ]
  },
  {
   "cell_type": "code",
   "execution_count": 5,
   "id": "8a23a95c-2c42-4357-9696-d6fdd05ebebc",
   "metadata": {},
   "outputs": [],
   "source": [
    "def get_sources_google(driver, query):\n",
    "    '''\n",
    "    Returns a list of domains for Google's first-page search results for a given query.\n",
    "    :param obj driver: The selenium driver\n",
    "    :param str query: The query to use\n",
    "    '''\n",
    "    urls = []\n",
    "    driver.get(f'https://www.google.de/search?q={query}')\n",
    "    cookie_consent = driver.find_elements(By.XPATH, '//button/div[text()=\"Alle ablehnen\"]')\n",
    "    if cookie_consent:\n",
    "        cookie_consent[0].click()\n",
    "    for x in driver.find_elements(By.XPATH, '//cite[@role=\"text\"]'):\n",
    "        if x.text != '':\n",
    "            if 'http' in x.text:\n",
    "                urls.append(re.split(' › ', x.text)[0])\n",
    "            elif 'Aufrufe' or 'Follower' in x.text:\n",
    "                urls.append('youtube.com')\n",
    "            else:\n",
    "                continue\n",
    "    return urls"
   ]
  },
  {
   "cell_type": "code",
   "execution_count": 6,
   "id": "d783e07b-4069-44ce-b0a3-14050ccbd4e3",
   "metadata": {},
   "outputs": [],
   "source": [
    "def get_sources_perplexity(driver, query):\n",
    "    '''\n",
    "    Returns a list of sources used by perplexity.ai for a given query.\n",
    "    :param obj driver: The selenium driver (needs to be seleniumbase with UC enabled)\n",
    "    :param str query: The query to use\n",
    "    '''\n",
    "    driver.get('https://perplexity.ai')\n",
    "    driver.find_element(By.XPATH, '//textarea[@placeholder=\"Ask anything...\"]').send_keys(query)\n",
    "    time.sleep(random.randint(0, 3))\n",
    "    driver.find_element(By.XPATH, '//button[@aria-label=\"Submit\"]').click()\n",
    "    time.sleep(random.randint(5, 10))\n",
    "    view_all_sources = driver.find_elements(By.XPATH, '//div[contains(@class, \"grid-flow-col\")]/div[contains(@class, \"flex\")]')\n",
    "    if view_all_sources:\n",
    "        driver.find_element(By.XPATH, '//div[contains(@class, \"grid-flow-col\")]/div[contains(@class, \"flex\")]').click()\n",
    "        time.sleep(random.randint(0, 2))\n",
    "        return [x.get_attribute('href') for x in driver.find_elements(By.XPATH, '//div[contains(@class, \"gap-md\")]//a')]\n",
    "    else:\n",
    "        return [x.get_attribute('href') for x in driver.find_elements(By.XPATH, '//div[contains(@class, \"grid-flow-col\")]/div/button/a')]"
   ]
  },
  {
   "cell_type": "code",
   "execution_count": 212,
   "id": "94762ae5-c2ac-4713-aee3-689ab70fa684",
   "metadata": {},
   "outputs": [],
   "source": [
    "def compare_searches(queries):\n",
    "    '''\n",
    "    :param list queries: A list of lists with queries [category, subcategory0, subcategory1, query]\n",
    "    '''\n",
    "    results = []\n",
    "    driver = create_selenium_driver('uc')\n",
    "    for i, v in enumerate(queries):\n",
    "        result = {}\n",
    "        try:\n",
    "            google_sources = [tldextract.extract(x).domain + '.' + tldextract.extract(x).suffix for x in get_sources_google(driver, v[3])]\n",
    "        except Exception as e:\n",
    "            google_sources = [None]\n",
    "            print(e)\n",
    "        try:\n",
    "            perplexity_sources = [tldextract.extract(x).domain + '.' + tldextract.extract(x).suffix for x in get_sources_perplexity(driver, v[3])]\n",
    "        except Exception as e:\n",
    "            perplexity_sources = [None]\n",
    "            print(e)\n",
    "        result['category'] = v[0]\n",
    "        result['subcategory0'] = v[1]\n",
    "        result['subcategory1'] = v[2]\n",
    "        result['query'] = v[3]\n",
    "        result['google'] = google_sources\n",
    "        result['perplexity'] = perplexity_sources\n",
    "        results.append(result)\n",
    "    driver.quit()\n",
    "    return results"
   ]
  }
 ],
 "metadata": {
  "kernelspec": {
   "display_name": "Python 3 (ipykernel)",
   "language": "python",
   "name": "python3"
  },
  "language_info": {
   "codemirror_mode": {
    "name": "ipython",
    "version": 3
   },
   "file_extension": ".py",
   "mimetype": "text/x-python",
   "name": "python",
   "nbconvert_exporter": "python",
   "pygments_lexer": "ipython3",
   "version": "3.12.3"
  }
 },
 "nbformat": 4,
 "nbformat_minor": 5
}
